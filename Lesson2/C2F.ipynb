{
  "nbformat": 4,
  "nbformat_minor": 0,
  "metadata": {
    "colab": {
      "name": "C2F.ipynb",
      "provenance": [],
      "collapsed_sections": [],
      "authorship_tag": "ABX9TyPJBkY58530kBbuPYiKgLGN",
      "include_colab_link": true
    },
    "kernelspec": {
      "name": "python3",
      "display_name": "Python 3"
    },
    "language_info": {
      "name": "python"
    }
  },
  "cells": [
    {
      "cell_type": "markdown",
      "metadata": {
        "id": "view-in-github",
        "colab_type": "text"
      },
      "source": [
        "<a href=\"https://colab.research.google.com/github/ruhend/tensorflower/blob/master/Lesson2/C2F.ipynb\" target=\"_parent\"><img src=\"https://colab.research.google.com/assets/colab-badge.svg\" alt=\"Open In Colab\"/></a>"
      ]
    },
    {
      "cell_type": "code",
      "execution_count": 40,
      "metadata": {
        "id": "yixVfhLlhSnD"
      },
      "outputs": [],
      "source": [
        "import tensorflow as tf\n",
        "tf.compat.v1.logging\n",
        "import numpy as np"
      ]
    },
    {
      "cell_type": "code",
      "source": [
        "celsius_q   = np.array([-40, -10, 0, 8, 15, 22, 38], dtype = float)\n",
        "fahreheit_q = np.array([-40, 14, 32, 46, 59, 72, 100], dtype = float)"
      ],
      "metadata": {
        "id": "jCG8BQUYheZN"
      },
      "execution_count": 41,
      "outputs": []
    },
    {
      "cell_type": "code",
      "source": [
        "for i, c in enumerate(celsius_q):\n",
        "  print('{}˚ C = {}˚ F'.format(c, fahreheit_q[i]))"
      ],
      "metadata": {
        "colab": {
          "base_uri": "https://localhost:8080/"
        },
        "id": "ryWOnnd6nFHK",
        "outputId": "2d7a95e9-d2fe-41a5-f050-43d3e9853447"
      },
      "execution_count": 42,
      "outputs": [
        {
          "output_type": "stream",
          "name": "stdout",
          "text": [
            "-40.0˚ C = -40.0˚ F\n",
            "-10.0˚ C = 14.0˚ F\n",
            "0.0˚ C = 32.0˚ F\n",
            "8.0˚ C = 46.0˚ F\n",
            "15.0˚ C = 59.0˚ F\n",
            "22.0˚ C = 72.0˚ F\n",
            "38.0˚ C = 100.0˚ F\n"
          ]
        }
      ]
    },
    {
      "cell_type": "markdown",
      "source": [
        "# Machine Learning Terminology\n",
        "- Features - inputs\n",
        "- Labels   - outputs\n",
        "- Examples - pair of inputs and outputs"
      ],
      "metadata": {
        "id": "myO-Fv82pGII"
      }
    },
    {
      "cell_type": "markdown",
      "source": [
        "# Creating the Model"
      ],
      "metadata": {
        "id": "GMN6z3KdpeLT"
      }
    },
    {
      "cell_type": "code",
      "source": [
        "l0 = tf.keras.layers.Dense(units = 1, input_shape=[1])\n",
        "model = tf.keras.Sequential([l0])"
      ],
      "metadata": {
        "id": "vJVSeSxApg4I"
      },
      "execution_count": 43,
      "outputs": []
    },
    {
      "cell_type": "code",
      "source": [
        "model.compile(loss='mean_squared_error', optimizer=tf.keras.optimizers.Adam(0.1))"
      ],
      "metadata": {
        "id": "jHWc07f_pqcu"
      },
      "execution_count": 44,
      "outputs": []
    },
    {
      "cell_type": "markdown",
      "source": [
        "# Training the Model"
      ],
      "metadata": {
        "id": "DWts7HeKrW6C"
      }
    },
    {
      "cell_type": "code",
      "source": [
        "history = model.fit(celsius_q, fahreheit_q, epochs = 500, verbose = False)\n",
        "print('Done with training')"
      ],
      "metadata": {
        "colab": {
          "base_uri": "https://localhost:8080/"
        },
        "id": "smj6edctrYOE",
        "outputId": "1ced991f-02be-4bae-ff7d-9d80c6c07795"
      },
      "execution_count": 45,
      "outputs": [
        {
          "output_type": "stream",
          "name": "stdout",
          "text": [
            "Done with training\n"
          ]
        }
      ]
    },
    {
      "cell_type": "code",
      "source": [
        "import matplotlib.pyplot as plt"
      ],
      "metadata": {
        "id": "ZqPdtQUgrv5e"
      },
      "execution_count": 46,
      "outputs": []
    },
    {
      "cell_type": "code",
      "source": [
        "plt.xlabel('Epoch number')\n",
        "plt.ylabel('Loss Magnitude')\n",
        "plt.plot(history.history['loss'])"
      ],
      "metadata": {
        "colab": {
          "base_uri": "https://localhost:8080/",
          "height": 296
        },
        "id": "pqiTgyE6sFkg",
        "outputId": "eb2269d6-ce5b-4161-fbaa-c3df49cee979"
      },
      "execution_count": 47,
      "outputs": [
        {
          "output_type": "execute_result",
          "data": {
            "text/plain": [
              "[<matplotlib.lines.Line2D at 0x7fc26e0af190>]"
            ]
          },
          "metadata": {},
          "execution_count": 47
        },
        {
          "output_type": "display_data",
          "data": {
            "image/png": "[encoded data removed]",
            "text/plain": [
              "<Figure size 432x288 with 1 Axes>"
            ]
          },
          "metadata": {
            "needs_background": "light"
          }
        }
      ]
    },
    {
      "cell_type": "markdown",
      "source": [
        "# Predict using Model"
      ],
      "metadata": {
        "id": "i0RnhH9vslN7"
      }
    },
    {
      "cell_type": "code",
      "source": [
        "print(model.predict([100]))"
      ],
      "metadata": {
        "colab": {
          "base_uri": "https://localhost:8080/"
        },
        "id": "gQfgAH9lsnBR",
        "outputId": "0c554576-285d-4be0-8f20-b3d198cef2d5"
      },
      "execution_count": 48,
      "outputs": [
        {
          "output_type": "stream",
          "name": "stdout",
          "text": [
            "[[211.30684]]\n"
          ]
        }
      ]
    },
    {
      "cell_type": "code",
      "source": [
        ""
      ],
      "metadata": {
        "id": "xOd_L2wRsoyS"
      },
      "execution_count": 48,
      "outputs": []
    }
  ]
}