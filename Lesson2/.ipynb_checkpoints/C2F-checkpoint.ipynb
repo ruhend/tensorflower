{
 "cells": [
  {
   "cell_type": "markdown",
   "metadata": {},
   "source": [
    "# Celsius to Fahrenheit using TF\n",
    "## @author: @ruhend (Mudigonda)\n",
    "## Credits: Google"
   ]
  },
  {
   "cell_type": "code",
   "execution_count": 1,
   "metadata": {
    "id": "yixVfhLlhSnD"
   },
   "outputs": [],
   "source": [
    "import tensorflow as tf\n",
    "tf.compat.v1.logging\n",
    "import numpy as np"
   ]
  },
  {
   "cell_type": "code",
   "execution_count": 2,
   "metadata": {
    "id": "jCG8BQUYheZN"
   },
   "outputs": [],
   "source": [
    "celsius_q   = np.array([-40, -10, 0, 8, 15, 22, 38], dtype = float)\n",
    "fahreheit_q = np.array([-40, 14, 32, 46, 59, 72, 100], dtype = float)"
   ]
  },
  {
   "cell_type": "code",
   "execution_count": 3,
   "metadata": {
    "colab": {
     "base_uri": "https://localhost:8080/"
    },
    "id": "ryWOnnd6nFHK",
    "outputId": "2d7a95e9-d2fe-41a5-f050-43d3e9853447"
   },
   "outputs": [
    {
     "name": "stdout",
     "output_type": "stream",
     "text": [
      "-40.0˚ C = -40.0˚ F\n",
      "-10.0˚ C = 14.0˚ F\n",
      "0.0˚ C = 32.0˚ F\n",
      "8.0˚ C = 46.0˚ F\n",
      "15.0˚ C = 59.0˚ F\n",
      "22.0˚ C = 72.0˚ F\n",
      "38.0˚ C = 100.0˚ F\n"
     ]
    }
   ],
   "source": [
    "for i, c in enumerate(celsius_q):\n",
    "  print('{}˚ C = {}˚ F'.format(c, fahreheit_q[i]))"
   ]
  },
  {
   "cell_type": "markdown",
   "metadata": {
    "id": "myO-Fv82pGII"
   },
   "source": [
    "# Machine Learning Terminology\n",
    "- Features - inputs\n",
    "- Labels   - outputs\n",
    "- Examples - pair of inputs and outputs"
   ]
  },
  {
   "cell_type": "markdown",
   "metadata": {
    "id": "GMN6z3KdpeLT"
   },
   "source": [
    "# Creating the Model"
   ]
  },
  {
   "cell_type": "code",
   "execution_count": 4,
   "metadata": {
    "id": "vJVSeSxApg4I"
   },
   "outputs": [],
   "source": [
    "l0 = tf.keras.layers.Dense(units = 1, input_shape=[1])\n",
    "model = tf.keras.Sequential([l0])"
   ]
  },
  {
   "cell_type": "code",
   "execution_count": 5,
   "metadata": {
    "id": "jHWc07f_pqcu"
   },
   "outputs": [],
   "source": [
    "model.compile(loss='mean_squared_error', optimizer=tf.keras.optimizers.Adam(0.1))"
   ]
  },
  {
   "cell_type": "markdown",
   "metadata": {
    "id": "DWts7HeKrW6C"
   },
   "source": [
    "# Training the Model"
   ]
  },
  {
   "cell_type": "code",
   "execution_count": 6,
   "metadata": {
    "colab": {
     "base_uri": "https://localhost:8080/"
    },
    "id": "smj6edctrYOE",
    "outputId": "1ced991f-02be-4bae-ff7d-9d80c6c07795"
   },
   "outputs": [
    {
     "name": "stdout",
     "output_type": "stream",
     "text": [
      "Done with training\n"
     ]
    }
   ],
   "source": [
    "history = model.fit(celsius_q, fahreheit_q, epochs = 500, verbose = False)\n",
    "print('Done with training')"
   ]
  },
  {
   "cell_type": "code",
   "execution_count": 7,
   "metadata": {
    "id": "ZqPdtQUgrv5e"
   },
   "outputs": [],
   "source": [
    "import matplotlib.pyplot as plt"
   ]
  },
  {
   "cell_type": "code",
   "execution_count": 8,
   "metadata": {
    "colab": {
     "base_uri": "https://localhost:8080/",
     "height": 296
    },
    "id": "pqiTgyE6sFkg",
    "outputId": "eb2269d6-ce5b-4161-fbaa-c3df49cee979"
   },
   "outputs": [
    {
     "data": {
      "text/plain": [
       "[<matplotlib.lines.Line2D at 0x7fdd961f66d0>]"
      ]
     },
     "execution_count": 8,
     "metadata": {},
     "output_type": "execute_result"
    },
    {
     "data": {
      "image/png": "[encoded data removed]",
      "text/plain": [
       "<Figure size 432x288 with 1 Axes>"
      ]
     },
     "metadata": {
      "needs_background": "light"
     },
     "output_type": "display_data"
    }
   ],
   "source": [
    "plt.xlabel('Epoch number')\n",
    "plt.ylabel('Loss Magnitude')\n",
    "plt.plot(history.history['loss'])"
   ]
  },
  {
   "cell_type": "markdown",
   "metadata": {
    "id": "i0RnhH9vslN7"
   },
   "source": [
    "# Predict using Model"
   ]
  },
  {
   "cell_type": "code",
   "execution_count": 9,
   "metadata": {
    "colab": {
     "base_uri": "https://localhost:8080/"
    },
    "id": "gQfgAH9lsnBR",
    "outputId": "0c554576-285d-4be0-8f20-b3d198cef2d5"
   },
   "outputs": [
    {
     "name": "stdout",
     "output_type": "stream",
     "text": [
      "[[211.33658]]\n"
     ]
    }
   ],
   "source": [
    "print(model.predict([100]))"
   ]
  }
 ],
 "metadata": {
  "colab": {
   "authorship_tag": "ABX9TyPJBkY58530kBbuPYiKgLGN",
   "collapsed_sections": [],
   "include_colab_link": true,
   "name": "C2F.ipynb",
   "provenance": []
  },
  "kernelspec": {
   "display_name": "Python 3",
   "language": "python",
   "name": "python3"
  },
  "language_info": {
   "codemirror_mode": {
    "name": "ipython",
    "version": 3
   },
   "file_extension": ".py",
   "mimetype": "text/x-python",
   "name": "python",
   "nbconvert_exporter": "python",
   "pygments_lexer": "ipython3",
   "version": "3.9.7"
  }
 },
 "nbformat": 4,
 "nbformat_minor": 1
}
