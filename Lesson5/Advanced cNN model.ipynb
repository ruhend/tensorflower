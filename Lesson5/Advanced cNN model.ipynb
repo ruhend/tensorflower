{
 "cells": [
  {
   "cell_type": "markdown",
   "id": "ec1ace48",
   "metadata": {},
   "source": [
    "# Advanced cNN model"
   ]
  },
  {
   "cell_type": "markdown",
   "id": "62857e50",
   "metadata": {},
   "source": [
    "## @author: @ruhend(Himansh Mudigonda)"
   ]
  },
  {
   "cell_type": "code",
   "execution_count": null,
   "id": "a1344b72",
   "metadata": {
    "scrolled": true
   },
   "outputs": [],
   "source": [
    "!pip install tensorflow\n",
    "!pip install numpy\n",
    "!pip install matplotlib"
   ]
  },
  {
   "cell_type": "markdown",
   "id": "a391cb1c",
   "metadata": {},
   "source": [
    "### Imports"
   ]
  },
  {
   "cell_type": "code",
   "execution_count": null,
   "id": "b1c5e65f",
   "metadata": {},
   "outputs": [],
   "source": [
    "from __future__ import absolute_import, division, print_function\n",
    "\n",
    "import tensorflow as tf\n",
    "from tensorflow.keras.preprocessing.image import ImageDataGenerator\n",
    "import numpy as np\n",
    "import matplotlib.pyplot as plt\n",
    "import math\n",
    "import os\n",
    "\n",
    "print(tf.__version__)"
   ]
  },
  {
   "cell_type": "markdown",
   "id": "d6040a86",
   "metadata": {},
   "source": [
    "### Data sets"
   ]
  },
  {
   "cell_type": "code",
   "execution_count": null,
   "id": "4fe7a645",
   "metadata": {},
   "outputs": [],
   "source": [
    "_URL = 'https://storage.googleapis.com/mledu-datasets/cats_and_dogs_filtered.zip'\n",
    "zip_dir = tf.keras.utils.get_file('cats_and_dogs_filtered.zip', origin = _URL, extract = True)"
   ]
  },
  {
   "cell_type": "code",
   "execution_count": null,
   "id": "1fab0c55",
   "metadata": {},
   "outputs": [],
   "source": [
    "zip_dir_base = os.path.dirname(zip_dir)\n",
    "!find $zip_dir_base -type d -print"
   ]
  },
  {
   "cell_type": "code",
   "execution_count": null,
   "id": "49ec860a",
   "metadata": {},
   "outputs": [],
   "source": [
    "train_dir = os.path.join(os.path.dirname(base_dir), 'cats_and_dogs_filtered','train')\n",
    "validation_dir = os.path.join(os.path.dirname(base_dir), 'cats_and_dogs_filtered','validation')\n",
    "train_cats_dir = os.path.join(train_dir, 'cats')\n",
    "train_dogs_dir = os.path.join(train_dir, 'dogs')\n",
    "\n",
    "print(train_dir, validation_dir)\n",
    "validation_cats_dir = os.path.join(validation_dir, 'cats')\n",
    "validation_dogs_dir = os.path.join(validation_dir, 'dogs')"
   ]
  },
  {
   "cell_type": "markdown",
   "id": "c1e87284",
   "metadata": {},
   "source": [
    "##### Understanding our data"
   ]
  },
  {
   "cell_type": "code",
   "execution_count": null,
   "id": "fa6b7238",
   "metadata": {},
   "outputs": [],
   "source": [
    "num_cats_tr = len(os.listdir(train_cats_dir))\n",
    "num_dogs_tr = len(os.listdir(train_dogs_dir))\n",
    "\n",
    "num_cats_val = len(os.listdir(validation_cats_dir))\n",
    "num_dogs_val = len(os.listdir(validation_dogs_dir))\n",
    "\n",
    "total_train = num_cats_tr + num_dogs_tr\n",
    "total_val   = num_cats_val + num_dogs_val"
   ]
  },
  {
   "cell_type": "code",
   "execution_count": null,
   "id": "57a9640c",
   "metadata": {},
   "outputs": [],
   "source": [
    "print(\"Total training images:                   :  \", total_train)\n",
    "print(\"Total validation images:                 :  \", total_val)\n",
    "\n",
    "\n",
    "print(\"Total number of cats in training data    :  \", num_cats_tr)\n",
    "print(\"Total number of dogs in training data    :  \", num_dogs_tr)\n",
    "\n",
    "print(\"Total number of cats in validation data  :  \", num_cats_val)\n",
    "print(\"Total number of cats in validation data  :  \", num_cats_val)"
   ]
  },
  {
   "cell_type": "markdown",
   "id": "9802ab14",
   "metadata": {},
   "source": [
    "### Setting Model Params"
   ]
  },
  {
   "cell_type": "code",
   "execution_count": null,
   "id": "6da07059",
   "metadata": {},
   "outputs": [],
   "source": [
    "BATCH_SIZE = 100\n",
    "IMG_SHAPE  = 150 "
   ]
  },
  {
   "cell_type": "markdown",
   "id": "b10ec36e",
   "metadata": {},
   "source": [
    "### Data Preparation"
   ]
  },
  {
   "cell_type": "code",
   "execution_count": null,
   "id": "731dbcca",
   "metadata": {},
   "outputs": [],
   "source": [
    "train_image_gen = ImageDataGenerator(rescale = 1./255)\n",
    "val_image_gen   = ImageDataGenerator(rescale = 1./255)"
   ]
  },
  {
   "cell_type": "code",
   "execution_count": null,
   "id": "ed57ca9b",
   "metadata": {},
   "outputs": [],
   "source": [
    "train_data_gen  = train_image_gen.flow_from_directory(\n",
    "    batch_size  = BATCH_SIZE,\n",
    "    directory   = train_dir,\n",
    "    shuffle     = True,\n",
    "    target_size = (IMG_SHAPE, IMG_SHAPE),\n",
    "    class_mode  = 'binary'\n",
    ")"
   ]
  },
  {
   "cell_type": "code",
   "execution_count": null,
   "id": "4ce3652b",
   "metadata": {},
   "outputs": [],
   "source": [
    "val_data_gen    = val_image_gen.flow_from_directory(\n",
    "    batch_size  = BATCH_SIZE,\n",
    "    directory   = validation_dir,\n",
    "    shuffle     = False,\n",
    "    target_size = (IMG_SHAPE, IMG_SHAPE),\n",
    "    class_mode  = 'binary'\n",
    ")"
   ]
  },
  {
   "cell_type": "markdown",
   "id": "db6b0b6e",
   "metadata": {},
   "source": [
    "### Visualizing Test Data"
   ]
  },
  {
   "cell_type": "code",
   "execution_count": null,
   "id": "a5553b62",
   "metadata": {},
   "outputs": [],
   "source": [
    "sample_training_images, _ = next(train_data_gen)"
   ]
  },
  {
   "cell_type": "code",
   "execution_count": null,
   "id": "12a23763",
   "metadata": {},
   "outputs": [],
   "source": [
    "def plotImages(image_arr):\n",
    "    fig, axes = plt.subplots(1, 5, figsize=(30,30))\n",
    "    axes = axes.flatten()\n",
    "    for img, ax in zip(image_arr, axes):\n",
    "        ax.imshow(img)\n",
    "    plt.tight_layout()\n",
    "    plt.show()"
   ]
  },
  {
   "cell_type": "code",
   "execution_count": null,
   "id": "c68f4857",
   "metadata": {},
   "outputs": [],
   "source": [
    "plotImages(sample_training_images[:5])"
   ]
  },
  {
   "cell_type": "markdown",
   "id": "f2899ec7",
   "metadata": {},
   "source": [
    "## Defining the Model"
   ]
  },
  {
   "cell_type": "code",
   "execution_count": null,
   "id": "86795b0f",
   "metadata": {},
   "outputs": [],
   "source": [
    "# This will have 4 Conv layers followed by 2 Dense\n",
    "model = tf.keras.models.Sequential([\n",
    "    tf.keras.layers.Conv2D(32,  (3, 3), activation = 'relu', input_shape=(150, 150, 3)),\n",
    "    tf.keras.layers.MaxPooling2D(2, 2),\n",
    "    tf.keras.layers.Conv2D(64,  (3, 3), activation = 'relu'),\n",
    "    tf.keras.layers.MaxPooling2D(2, 2),\n",
    "    tf.keras.layers.Conv2D(128, (3, 3), activation = 'relu'),\n",
    "    tf.keras.layers.MaxPooling2D(2, 2),\n",
    "    \n",
    "    tf.keras.layers.Flatten(),\n",
    "    tf.keras.layers.Dense(512, activation = 'relu'),\n",
    "    tf.keras.layers.Dense(2, activation = 'softmax')\n",
    "])"
   ]
  },
  {
   "cell_type": "code",
   "execution_count": null,
   "id": "33689b65",
   "metadata": {},
   "outputs": [],
   "source": []
  },
  {
   "cell_type": "code",
   "execution_count": null,
   "id": "5f4a0295",
   "metadata": {},
   "outputs": [],
   "source": []
  },
  {
   "cell_type": "code",
   "execution_count": null,
   "id": "ec647cbb",
   "metadata": {},
   "outputs": [],
   "source": []
  },
  {
   "cell_type": "code",
   "execution_count": null,
   "id": "4f187ce6",
   "metadata": {},
   "outputs": [],
   "source": []
  },
  {
   "cell_type": "code",
   "execution_count": null,
   "id": "2fd918a5",
   "metadata": {},
   "outputs": [],
   "source": []
  }
 ],
 "metadata": {
  "kernelspec": {
   "display_name": "Python 3 (ipykernel)",
   "language": "python",
   "name": "python3"
  },
  "language_info": {
   "codemirror_mode": {
    "name": "ipython",
    "version": 3
   },
   "file_extension": ".py",
   "mimetype": "text/x-python",
   "name": "python",
   "nbconvert_exporter": "python",
   "pygments_lexer": "ipython3",
   "version": "3.9.7"
  }
 },
 "nbformat": 4,
 "nbformat_minor": 5
}
