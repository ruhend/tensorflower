{
 "cells": [
  {
   "cell_type": "markdown",
   "id": "ec1ace48",
   "metadata": {},
   "source": [
    "# Advanced cNN model"
   ]
  },
  {
   "cell_type": "markdown",
   "id": "62857e50",
   "metadata": {},
   "source": [
    "## @author: @ruhend(Himansh Mudigonda)"
   ]
  },
  {
   "cell_type": "code",
   "execution_count": null,
   "id": "a1344b72",
   "metadata": {},
   "outputs": [],
   "source": []
  }
 ],
 "metadata": {
  "kernelspec": {
   "display_name": "Python 3 (ipykernel)",
   "language": "python",
   "name": "python3"
  },
  "language_info": {
   "codemirror_mode": {
    "name": "ipython",
    "version": 3
   },
   "file_extension": ".py",
   "mimetype": "text/x-python",
   "name": "python",
   "nbconvert_exporter": "python",
   "pygments_lexer": "ipython3",
   "version": "3.9.7"
  }
 },
 "nbformat": 4,
 "nbformat_minor": 5
}
