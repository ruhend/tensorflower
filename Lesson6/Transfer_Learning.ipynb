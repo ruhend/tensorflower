{
  "nbformat": 4,
  "nbformat_minor": 0,
  "metadata": {
    "colab": {
      "name": "Transfer Learning",
      "provenance": [],
      "authorship_tag": "ABX9TyPpnmbf5k2h8ym+yq8gU3al"
    },
    "kernelspec": {
      "name": "python3",
      "display_name": "Python 3"
    },
    "language_info": {
      "name": "python"
    }
  },
  "cells": [
    {
      "cell_type": "code",
      "execution_count": null,
      "metadata": {
        "id": "Su-mK4Upa2PT"
      },
      "outputs": [],
      "source": [
        ""
      ]
    }
  ]
}